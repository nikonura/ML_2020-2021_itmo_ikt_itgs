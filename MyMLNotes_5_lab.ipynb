{
  "nbformat": 4,
  "nbformat_minor": 0,
  "metadata": {
    "colab": {
      "name": "MyMLNotes.5.lab.ipynb",
      "provenance": [],
      "collapsed_sections": []
    },
    "kernelspec": {
      "name": "python3",
      "display_name": "Python 3"
    }
  },
  "cells": [
    {
      "cell_type": "markdown",
      "metadata": {
        "id": "RjWfqwq7NlsR"
      },
      "source": [
        "# Задача анализа тональности отзывов"
      ]
    },
    {
      "cell_type": "markdown",
      "metadata": {
        "id": "Xkc4ZUxYPOA_"
      },
      "source": [
        "# Подготовка библиотек и датасетов"
      ]
    },
    {
      "cell_type": "code",
      "metadata": {
        "id": "sJIgbIjJGB6K",
        "colab": {
          "base_uri": "https://localhost:8080/"
        },
        "outputId": "1235928f-d406-4922-ed84-cf016e9e2a16"
      },
      "source": [
        "!pip install PyDrive\n",
        "!pip install pymorphy2\n",
        "! git clone https://github.com/facebookresearch/fastText.git\n",
        "! pip3 install fastText/."
      ],
      "execution_count": null,
      "outputs": [
        {
          "output_type": "stream",
          "text": [
            "Requirement already satisfied: PyDrive in /usr/local/lib/python3.6/dist-packages (1.3.1)\n",
            "Requirement already satisfied: oauth2client>=4.0.0 in /usr/local/lib/python3.6/dist-packages (from PyDrive) (4.1.3)\n",
            "Requirement already satisfied: PyYAML>=3.0 in /usr/local/lib/python3.6/dist-packages (from PyDrive) (3.13)\n",
            "Requirement already satisfied: google-api-python-client>=1.2 in /usr/local/lib/python3.6/dist-packages (from PyDrive) (1.7.12)\n",
            "Requirement already satisfied: six>=1.6.1 in /usr/local/lib/python3.6/dist-packages (from oauth2client>=4.0.0->PyDrive) (1.15.0)\n",
            "Requirement already satisfied: pyasn1>=0.1.7 in /usr/local/lib/python3.6/dist-packages (from oauth2client>=4.0.0->PyDrive) (0.4.8)\n",
            "Requirement already satisfied: pyasn1-modules>=0.0.5 in /usr/local/lib/python3.6/dist-packages (from oauth2client>=4.0.0->PyDrive) (0.2.8)\n",
            "Requirement already satisfied: rsa>=3.1.4 in /usr/local/lib/python3.6/dist-packages (from oauth2client>=4.0.0->PyDrive) (4.6)\n",
            "Requirement already satisfied: httplib2>=0.9.1 in /usr/local/lib/python3.6/dist-packages (from oauth2client>=4.0.0->PyDrive) (0.17.4)\n",
            "Requirement already satisfied: google-auth-httplib2>=0.0.3 in /usr/local/lib/python3.6/dist-packages (from google-api-python-client>=1.2->PyDrive) (0.0.4)\n",
            "Requirement already satisfied: uritemplate<4dev,>=3.0.0 in /usr/local/lib/python3.6/dist-packages (from google-api-python-client>=1.2->PyDrive) (3.0.1)\n",
            "Requirement already satisfied: google-auth>=1.4.1 in /usr/local/lib/python3.6/dist-packages (from google-api-python-client>=1.2->PyDrive) (1.17.2)\n",
            "Requirement already satisfied: cachetools<5.0,>=2.0.0 in /usr/local/lib/python3.6/dist-packages (from google-auth>=1.4.1->google-api-python-client>=1.2->PyDrive) (4.1.1)\n",
            "Requirement already satisfied: setuptools>=40.3.0 in /usr/local/lib/python3.6/dist-packages (from google-auth>=1.4.1->google-api-python-client>=1.2->PyDrive) (50.3.2)\n",
            "Collecting pymorphy2\n",
            "\u001b[?25l  Downloading https://files.pythonhosted.org/packages/07/57/b2ff2fae3376d4f3c697b9886b64a54b476e1a332c67eee9f88e7f1ae8c9/pymorphy2-0.9.1-py3-none-any.whl (55kB)\n",
            "\u001b[K     |████████████████████████████████| 61kB 3.0MB/s \n",
            "\u001b[?25hCollecting pymorphy2-dicts-ru<3.0,>=2.4\n",
            "\u001b[?25l  Downloading https://files.pythonhosted.org/packages/3a/79/bea0021eeb7eeefde22ef9e96badf174068a2dd20264b9a378f2be1cdd9e/pymorphy2_dicts_ru-2.4.417127.4579844-py2.py3-none-any.whl (8.2MB)\n",
            "\u001b[K     |████████████████████████████████| 8.2MB 4.9MB/s \n",
            "\u001b[?25hRequirement already satisfied: docopt>=0.6 in /usr/local/lib/python3.6/dist-packages (from pymorphy2) (0.6.2)\n",
            "Collecting dawg-python>=0.7.1\n",
            "  Downloading https://files.pythonhosted.org/packages/6a/84/ff1ce2071d4c650ec85745766c0047ccc3b5036f1d03559fd46bb38b5eeb/DAWG_Python-0.7.2-py2.py3-none-any.whl\n",
            "Installing collected packages: pymorphy2-dicts-ru, dawg-python, pymorphy2\n",
            "Successfully installed dawg-python-0.7.2 pymorphy2-0.9.1 pymorphy2-dicts-ru-2.4.417127.4579844\n",
            "Cloning into 'fastText'...\n",
            "remote: Enumerating objects: 3854, done.\u001b[K\n",
            "remote: Total 3854 (delta 0), reused 0 (delta 0), pack-reused 3854\u001b[K\n",
            "Receiving objects: 100% (3854/3854), 8.22 MiB | 32.27 MiB/s, done.\n",
            "Resolving deltas: 100% (2417/2417), done.\n",
            "Processing ./fastText\n",
            "Requirement already satisfied: pybind11>=2.2 in /usr/local/lib/python3.6/dist-packages (from fasttext==0.9.2) (2.6.1)\n",
            "Requirement already satisfied: setuptools>=0.7.0 in /usr/local/lib/python3.6/dist-packages (from fasttext==0.9.2) (50.3.2)\n",
            "Requirement already satisfied: numpy in /usr/local/lib/python3.6/dist-packages (from fasttext==0.9.2) (1.18.5)\n",
            "Building wheels for collected packages: fasttext\n",
            "  Building wheel for fasttext (setup.py) ... \u001b[?25l\u001b[?25hdone\n",
            "  Created wheel for fasttext: filename=fasttext-0.9.2-cp36-cp36m-linux_x86_64.whl size=3031704 sha256=14f78f7a50ee4964f64c1c731d27d96f4baac1488987bd3955f5c4a278bcf9e5\n",
            "  Stored in directory: /tmp/pip-ephem-wheel-cache-hffkz_tq/wheels/a1/9f/52/696ce6c5c46325e840c76614ee5051458c0df10306987e7443\n",
            "Successfully built fasttext\n",
            "Installing collected packages: fasttext\n",
            "Successfully installed fasttext-0.9.2\n"
          ],
          "name": "stdout"
        }
      ]
    },
    {
      "cell_type": "code",
      "metadata": {
        "colab": {
          "base_uri": "https://localhost:8080/"
        },
        "id": "jsu4j7h6h0jf",
        "outputId": "0caed063-0d6e-44cb-cd99-3647e221c808"
      },
      "source": [
        "! pip install RestrictedPython"
      ],
      "execution_count": null,
      "outputs": [
        {
          "output_type": "stream",
          "text": [
            "Collecting RestrictedPython\n",
            "  Downloading https://files.pythonhosted.org/packages/a0/cc/28c4d966615a46b03be4dac0f2c6e713412efbf2f85428eeb9618c4f6f0c/RestrictedPython-5.1-py2.py3-none-any.whl\n",
            "Installing collected packages: RestrictedPython\n",
            "Successfully installed RestrictedPython-5.1\n"
          ],
          "name": "stdout"
        }
      ]
    },
    {
      "cell_type": "code",
      "metadata": {
        "id": "6t860zI8F-L2"
      },
      "source": [
        "# базовые необходимые библиотеки\n",
        "import pandas as pd\n",
        "import numpy as np\n",
        "import string\n",
        "import re   # библиотека для регулярных выражений\n",
        "from bs4 import BeautifulSoup # библиотека для парсинга xml"
      ],
      "execution_count": null,
      "outputs": []
    },
    {
      "cell_type": "markdown",
      "metadata": {
        "id": "QFUQzZAQNytQ"
      },
      "source": [
        "Выберем данные, с которыми будем работать для примера конвеера.\n",
        "(Те, кто предпочитает работать с английским языком, могут использовать набор данных sms_spam, он есть в папке Data)."
      ]
    },
    {
      "cell_type": "code",
      "metadata": {
        "id": "f2zIHNMvMW7_"
      },
      "source": [
        "from pydrive.auth import GoogleAuth\n",
        "from pydrive.drive import GoogleDrive\n",
        "from google.colab import auth\n",
        "from oauth2client.client import GoogleCredentials"
      ],
      "execution_count": null,
      "outputs": []
    },
    {
      "cell_type": "code",
      "metadata": {
        "id": "dcfBAJWXMved"
      },
      "source": [
        "auth.authenticate_user()\n",
        "gauth = GoogleAuth()\n",
        "gauth.credentials = GoogleCredentials.get_application_default()\n",
        "drive = GoogleDrive(gauth)"
      ],
      "execution_count": null,
      "outputs": []
    },
    {
      "cell_type": "code",
      "metadata": {
        "id": "aC3XWhkOMwqS"
      },
      "source": [
        "downloaded = drive.CreateFile({'id':\"1j-DhO_XD5EqzOqVSR4Wz1kNzhLmpeTkZ\"}) \n",
        "downloaded.GetContentFile('women-clothing-accessories.csv')\n",
        "data_reviews = pd.read_csv('women-clothing-accessories.csv', sep='\\t', usecols=[0, 1])"
      ],
      "execution_count": null,
      "outputs": []
    },
    {
      "cell_type": "code",
      "metadata": {
        "colab": {
          "base_uri": "https://localhost:8080/",
          "height": 204
        },
        "id": "5aKl1j-yM1wz",
        "outputId": "ac981cba-c9f0-45f0-ad81-a4266ba20f70"
      },
      "source": [
        "data_reviews.head()"
      ],
      "execution_count": null,
      "outputs": [
        {
          "output_type": "execute_result",
          "data": {
            "text/html": [
              "<div>\n",
              "<style scoped>\n",
              "    .dataframe tbody tr th:only-of-type {\n",
              "        vertical-align: middle;\n",
              "    }\n",
              "\n",
              "    .dataframe tbody tr th {\n",
              "        vertical-align: top;\n",
              "    }\n",
              "\n",
              "    .dataframe thead th {\n",
              "        text-align: right;\n",
              "    }\n",
              "</style>\n",
              "<table border=\"1\" class=\"dataframe\">\n",
              "  <thead>\n",
              "    <tr style=\"text-align: right;\">\n",
              "      <th></th>\n",
              "      <th>review</th>\n",
              "      <th>sentiment</th>\n",
              "    </tr>\n",
              "  </thead>\n",
              "  <tbody>\n",
              "    <tr>\n",
              "      <th>0</th>\n",
              "      <td>качество плохое пошив ужасный (горловина напер...</td>\n",
              "      <td>negative</td>\n",
              "    </tr>\n",
              "    <tr>\n",
              "      <th>1</th>\n",
              "      <td>Товар отдали другому человеку, я не получила п...</td>\n",
              "      <td>negative</td>\n",
              "    </tr>\n",
              "    <tr>\n",
              "      <th>2</th>\n",
              "      <td>Ужасная синтетика! Тонкая, ничего общего с пре...</td>\n",
              "      <td>negative</td>\n",
              "    </tr>\n",
              "    <tr>\n",
              "      <th>3</th>\n",
              "      <td>товар не пришел, продавец продлил защиту без м...</td>\n",
              "      <td>negative</td>\n",
              "    </tr>\n",
              "    <tr>\n",
              "      <th>4</th>\n",
              "      <td>Кофточка голая синтетика, носить не возможно.</td>\n",
              "      <td>negative</td>\n",
              "    </tr>\n",
              "  </tbody>\n",
              "</table>\n",
              "</div>"
            ],
            "text/plain": [
              "                                              review sentiment\n",
              "0  качество плохое пошив ужасный (горловина напер...  negative\n",
              "1  Товар отдали другому человеку, я не получила п...  negative\n",
              "2  Ужасная синтетика! Тонкая, ничего общего с пре...  negative\n",
              "3  товар не пришел, продавец продлил защиту без м...  negative\n",
              "4      Кофточка голая синтетика, носить не возможно.  negative"
            ]
          },
          "metadata": {
            "tags": []
          },
          "execution_count": 7
        }
      ]
    },
    {
      "cell_type": "code",
      "metadata": {
        "id": "w0H8nu3HOR_6"
      },
      "source": [
        "downloaded = drive.CreateFile({'id': \"1IKfQNbkGADSFUdyPdVjQS-ucFhOiT6sM\"}) \n",
        "downloaded.GetContentFile('sms_spam.csv')\n",
        "data_sms = pd.read_csv('sms_spam.csv', usecols=[1, 0])"
      ],
      "execution_count": null,
      "outputs": []
    },
    {
      "cell_type": "code",
      "metadata": {
        "colab": {
          "base_uri": "https://localhost:8080/",
          "height": 204
        },
        "id": "V97ENsGrO5GZ",
        "outputId": "95f9da9f-1b60-4a52-9fdc-266f1c8f569c"
      },
      "source": [
        "data_sms.head()"
      ],
      "execution_count": null,
      "outputs": [
        {
          "output_type": "execute_result",
          "data": {
            "text/html": [
              "<div>\n",
              "<style scoped>\n",
              "    .dataframe tbody tr th:only-of-type {\n",
              "        vertical-align: middle;\n",
              "    }\n",
              "\n",
              "    .dataframe tbody tr th {\n",
              "        vertical-align: top;\n",
              "    }\n",
              "\n",
              "    .dataframe thead th {\n",
              "        text-align: right;\n",
              "    }\n",
              "</style>\n",
              "<table border=\"1\" class=\"dataframe\">\n",
              "  <thead>\n",
              "    <tr style=\"text-align: right;\">\n",
              "      <th></th>\n",
              "      <th>type</th>\n",
              "      <th>text</th>\n",
              "    </tr>\n",
              "  </thead>\n",
              "  <tbody>\n",
              "    <tr>\n",
              "      <th>0</th>\n",
              "      <td>ham</td>\n",
              "      <td>Hope you are having a good week. Just checking in</td>\n",
              "    </tr>\n",
              "    <tr>\n",
              "      <th>1</th>\n",
              "      <td>ham</td>\n",
              "      <td>K..give back my thanks.</td>\n",
              "    </tr>\n",
              "    <tr>\n",
              "      <th>2</th>\n",
              "      <td>ham</td>\n",
              "      <td>Am also doing in cbe only. But have to pay.</td>\n",
              "    </tr>\n",
              "    <tr>\n",
              "      <th>3</th>\n",
              "      <td>spam</td>\n",
              "      <td>complimentary 4 STAR Ibiza Holiday or £10,000 ...</td>\n",
              "    </tr>\n",
              "    <tr>\n",
              "      <th>4</th>\n",
              "      <td>spam</td>\n",
              "      <td>okmail: Dear Dave this is your final notice to...</td>\n",
              "    </tr>\n",
              "  </tbody>\n",
              "</table>\n",
              "</div>"
            ],
            "text/plain": [
              "   type                                               text\n",
              "0   ham  Hope you are having a good week. Just checking in\n",
              "1   ham                            K..give back my thanks.\n",
              "2   ham        Am also doing in cbe only. But have to pay.\n",
              "3  spam  complimentary 4 STAR Ibiza Holiday or £10,000 ...\n",
              "4  spam  okmail: Dear Dave this is your final notice to..."
            ]
          },
          "metadata": {
            "tags": []
          },
          "execution_count": 9
        }
      ]
    },
    {
      "cell_type": "code",
      "metadata": {
        "id": "uEHSm9ELSQQ6"
      },
      "source": [
        "del(downloaded)"
      ],
      "execution_count": null,
      "outputs": []
    },
    {
      "cell_type": "markdown",
      "metadata": {
        "id": "g37kb12hPs5b"
      },
      "source": [
        "Scikit-Learn — расширение для библиотеки SciPy (Scientific Python), предоставляющее прикладной интерфейс (API) для обобщенного машинного обучения. Основанное на Cython с поддержкой высокопроизводительных библиотек на C, таких как LAPACK, LibSVM, Boost и других, расширение Scikit-Learn сочетает высокую производительность с простотой использования методов анализа наборов данных малого и среднего размера. \n",
        "Это расширение предоставляет единый интерфейс дл многих моделей регрессии, классификации, кластеризации и уменьшения размерности, а также утилиты для перекрестной проверки и настройки гиперпараметров.\n",
        "\n",
        "\n",
        "MultinomialNB - Наивный байесовский классификатор для полиномиальных моделей. Он работает с дискретными хар-ками, что позоволяет подсчитывать слова для классификации. Полиномиальное распределение обычно требует целочисленного подсчета признаков.\n",
        "\n"
      ]
    },
    {
      "cell_type": "code",
      "metadata": {
        "id": "Hrsq7IGTLyWz"
      },
      "source": [
        "from sklearn.metrics import * \n",
        "from sklearn.model_selection import train_test_split \n",
        "from sklearn.tree import DecisionTreeClassifier # можно заменить на другой классификатор\n",
        "from sklearn.naive_bayes import MultinomialNB # наивный байесовский классификатор\n",
        "from sklearn.feature_extraction.text import CountVectorizer # модель \"мешка слов\", см. далее\n",
        "from sklearn.feature_extraction.text import TfidfVectorizer"
      ],
      "execution_count": null,
      "outputs": []
    },
    {
      "cell_type": "markdown",
      "metadata": {
        "id": "1UTJMRdLQFKG"
      },
      "source": [
        "NLTK (Natural Language Tool-Kit — пакет инструментов для обработки\n",
        "естественного языка) — это «батарейки в комплекте», ресурс для обработ­ки естественного языка. Пакет содержит корпусы, лексические ресурсы, грамматики, алгоритмы обработки языков и предварительно обученные модели, позволяя программистам на Python быстро приступать к обработке текстовых данных на разных естественных языках."
      ]
    },
    {
      "cell_type": "code",
      "metadata": {
        "colab": {
          "base_uri": "https://localhost:8080/"
        },
        "id": "FeO2ZB3RLtUI",
        "outputId": "f88daf9d-336e-4997-f00e-f3ab751c26d2"
      },
      "source": [
        "import nltk\n",
        "from nltk import ngrams, tokenize\n",
        "from nltk.tokenize import word_tokenize, sent_tokenize, RegexpTokenizer\n",
        "# готовые токенизаторы библиотеки nltk\n",
        "nltk.download('punkt') # пунктуация для правильной работы токенизатора\n",
        "from nltk.corpus import stopwords # стоп-слова из NLTK\n",
        "nltk.download('stopwords')\n",
        "import nltk.data # библиотека Natural Language Toolkit"
      ],
      "execution_count": null,
      "outputs": [
        {
          "output_type": "stream",
          "text": [
            "[nltk_data] Downloading package punkt to /root/nltk_data...\n",
            "[nltk_data]   Package punkt is already up-to-date!\n",
            "[nltk_data] Downloading package stopwords to /root/nltk_data...\n",
            "[nltk_data]   Package stopwords is already up-to-date!\n"
          ],
          "name": "stdout"
        }
      ]
    },
    {
      "cell_type": "markdown",
      "metadata": {
        "id": "P-F1hk1AQqCl"
      },
      "source": [
        "Gensim — надежная, эффективная и простая в использовании библиотека, главной целью которой является семантическое моделирование текста без учителя. Первоначально создававшаяся для поиска сходств в документах, в настоящее время эта библиотека предоставляет тематическое моделирование для методов латентно-семантического анализа и включает в себя другие библиотеки машинного обучения без учителя, такие как word2vec."
      ]
    },
    {
      "cell_type": "code",
      "metadata": {
        "id": "na9loHfwMTbD"
      },
      "source": [
        "from pymorphy2 import MorphAnalyzer"
      ],
      "execution_count": null,
      "outputs": []
    },
    {
      "cell_type": "code",
      "metadata": {
        "id": "UhltDZ0hRA-g"
      },
      "source": [
        "import gensim # библиотека для загрузки и использвоания моделй w2v\n",
        "from gensim.models import word2vec # непосредственно методы w2v"
      ],
      "execution_count": null,
      "outputs": []
    },
    {
      "cell_type": "code",
      "metadata": {
        "id": "CimyRyIpqm6W"
      },
      "source": [
        "import urllib.request # библиотека для скачивания данных\n",
        "import fasttext"
      ],
      "execution_count": null,
      "outputs": []
    },
    {
      "cell_type": "markdown",
      "metadata": {
        "id": "VP5fc81fRD3x"
      },
      "source": [
        "# Постановка задачи"
      ]
    },
    {
      "cell_type": "markdown",
      "metadata": {
        "id": "R-N2NlPyRJJI"
      },
      "source": [
        "Нужно повторить весь пайплайн от сырых текстов до получения обученной модели.\n",
        "\n",
        "Обязательные шаги предобработки:\n",
        "токенизация\n",
        "* приведение к нижнему регистру\n",
        "* удаление стоп-слов\n",
        "* лемматизация\n",
        "* векторизация (с настройкой гиперпараметров)\n",
        "* построение модели\n",
        "* оценка качества модели\n",
        "\n",
        "Обязательно использование векторайзеров:\n",
        "* мешок n-грамм (диапазон для n подбирайте самостоятельно, запрещено использовать только униграммы).\n",
        "* tf-idf ((диапазон для n подбирайте самостоятельно, также нужно подбирать параметры max_df, min_df, max_features)\n",
        "* символьные n-граммы (диапазон для n подбирайте самостоятельно)\n",
        "\n",
        "В качестве классификатора нужно использовать \n",
        "* наивный байесовский классификатор.\n",
        "\n",
        "Для сравнения векторайзеров между собой используйте \n",
        "* precision, \n",
        "* recall, \n",
        "* f1-score и \n",
        "* accuracy. \n",
        "\n",
        "Для этого сформируйте датафрейм, в котором в строках будут разные векторайзеры, а в столбцах разные метрики качества, а в ячейках будут значения этих метрик для соответсвующих векторайзеров.\n"
      ]
    },
    {
      "cell_type": "markdown",
      "metadata": {
        "id": "aZzE-AHqc9hx"
      },
      "source": [
        "# Ход работы"
      ]
    },
    {
      "cell_type": "code",
      "metadata": {
        "colab": {
          "base_uri": "https://localhost:8080/"
        },
        "id": "qxRlDIN-pI7a",
        "outputId": "824988de-be47-456d-ea5f-dcdbc92adde2"
      },
      "source": [
        "noise = stopwords.words('english')+stopwords.words('russian')\n",
        "for i in string.punctuation:\n",
        "  noise.append(i)\n",
        "noise.append('это')\n",
        "print(sorted(noise))"
      ],
      "execution_count": null,
      "outputs": [
        {
          "output_type": "stream",
          "text": [
            "['!', '\"', '#', '$', '%', '&', \"'\", '(', ')', '*', '+', ',', '-', '.', '/', ':', ';', '<', '=', '>', '?', '@', '[', '\\\\', ']', '^', '_', '`', 'a', 'about', 'above', 'after', 'again', 'against', 'ain', 'all', 'am', 'an', 'and', 'any', 'are', 'aren', \"aren't\", 'as', 'at', 'be', 'because', 'been', 'before', 'being', 'below', 'between', 'both', 'but', 'by', 'can', 'couldn', \"couldn't\", 'd', 'did', 'didn', \"didn't\", 'do', 'does', 'doesn', \"doesn't\", 'doing', 'don', \"don't\", 'down', 'during', 'each', 'few', 'for', 'from', 'further', 'had', 'hadn', \"hadn't\", 'has', 'hasn', \"hasn't\", 'have', 'haven', \"haven't\", 'having', 'he', 'her', 'here', 'hers', 'herself', 'him', 'himself', 'his', 'how', 'i', 'if', 'in', 'into', 'is', 'isn', \"isn't\", 'it', \"it's\", 'its', 'itself', 'just', 'll', 'm', 'ma', 'me', 'mightn', \"mightn't\", 'more', 'most', 'mustn', \"mustn't\", 'my', 'myself', 'needn', \"needn't\", 'no', 'nor', 'not', 'now', 'o', 'of', 'off', 'on', 'once', 'only', 'or', 'other', 'our', 'ours', 'ourselves', 'out', 'over', 'own', 're', 's', 'same', 'shan', \"shan't\", 'she', \"she's\", 'should', \"should've\", 'shouldn', \"shouldn't\", 'so', 'some', 'such', 't', 'than', 'that', \"that'll\", 'the', 'their', 'theirs', 'them', 'themselves', 'then', 'there', 'these', 'they', 'this', 'those', 'through', 'to', 'too', 'under', 'until', 'up', 've', 'very', 'was', 'wasn', \"wasn't\", 'we', 'were', 'weren', \"weren't\", 'what', 'when', 'where', 'which', 'while', 'who', 'whom', 'why', 'will', 'with', 'won', \"won't\", 'wouldn', \"wouldn't\", 'y', 'you', \"you'd\", \"you'll\", \"you're\", \"you've\", 'your', 'yours', 'yourself', 'yourselves', '{', '|', '}', '~', 'а', 'без', 'более', 'больше', 'будет', 'будто', 'бы', 'был', 'была', 'были', 'было', 'быть', 'в', 'вам', 'вас', 'вдруг', 'ведь', 'во', 'вот', 'впрочем', 'все', 'всегда', 'всего', 'всех', 'всю', 'вы', 'где', 'да', 'даже', 'два', 'для', 'до', 'другой', 'его', 'ее', 'ей', 'ему', 'если', 'есть', 'еще', 'ж', 'же', 'за', 'зачем', 'здесь', 'и', 'из', 'или', 'им', 'иногда', 'их', 'к', 'как', 'какая', 'какой', 'когда', 'конечно', 'кто', 'куда', 'ли', 'лучше', 'между', 'меня', 'мне', 'много', 'может', 'можно', 'мой', 'моя', 'мы', 'на', 'над', 'надо', 'наконец', 'нас', 'не', 'него', 'нее', 'ней', 'нельзя', 'нет', 'ни', 'нибудь', 'никогда', 'ним', 'них', 'ничего', 'но', 'ну', 'о', 'об', 'один', 'он', 'она', 'они', 'опять', 'от', 'перед', 'по', 'под', 'после', 'потом', 'потому', 'почти', 'при', 'про', 'раз', 'разве', 'с', 'сам', 'свою', 'себе', 'себя', 'сейчас', 'со', 'совсем', 'так', 'такой', 'там', 'тебя', 'тем', 'теперь', 'то', 'тогда', 'того', 'тоже', 'только', 'том', 'тот', 'три', 'тут', 'ты', 'у', 'уж', 'уже', 'хорошо', 'хоть', 'чего', 'чем', 'через', 'что', 'чтоб', 'чтобы', 'чуть', 'эти', 'это', 'этого', 'этой', 'этом', 'этот', 'эту', 'я']\n"
          ],
          "name": "stdout"
        }
      ]
    },
    {
      "cell_type": "code",
      "metadata": {
        "colab": {
          "base_uri": "https://localhost:8080/",
          "height": 35
        },
        "id": "YNqvcCxHSnop",
        "outputId": "5510f3dc-9959-4217-8b34-0235fabc2845"
      },
      "source": [
        "string.punctuation"
      ],
      "execution_count": null,
      "outputs": [
        {
          "output_type": "execute_result",
          "data": {
            "application/vnd.google.colaboratory.intrinsic+json": {
              "type": "string"
            },
            "text/plain": [
              "'!\"#$%&\\'()*+,-./:;<=>?@[\\\\]^_`{|}~'"
            ]
          },
          "metadata": {
            "tags": []
          },
          "execution_count": 15
        }
      ]
    },
    {
      "cell_type": "code",
      "metadata": {
        "colab": {
          "base_uri": "https://localhost:8080/",
          "height": 71
        },
        "id": "VtmKuvTHXDsH",
        "outputId": "e7f82b5b-8d72-4e8f-acea-83bc21a789de"
      },
      "source": [
        "data_reviews['review'][0]"
      ],
      "execution_count": null,
      "outputs": [
        {
          "output_type": "execute_result",
          "data": {
            "application/vnd.google.colaboratory.intrinsic+json": {
              "type": "string"
            },
            "text/plain": [
              "'качество плохое пошив ужасный (горловина наперекос) Фото не соответствует Ткань ужасная рисунок блеклый маленький рукав не такой УЖАС!!!!! не стоит за такие деньги г.......'"
            ]
          },
          "metadata": {
            "tags": []
          },
          "execution_count": 16
        }
      ]
    },
    {
      "cell_type": "code",
      "metadata": {
        "colab": {
          "base_uri": "https://localhost:8080/",
          "height": 419
        },
        "id": "2VO1sdi5eL6y",
        "outputId": "c43d4011-2ad1-44cd-9fd8-41cddfc2ca16"
      },
      "source": [
        "# выжно сбросить индекс, чтобы можно было заменить колонку - замена по индексу\n",
        "data_reviews_wo_punct = data_reviews.copy().sample(500).reset_index(drop=True)\n",
        "# data_reviews_wo_punct = data_reviews.copy()\n",
        "data_reviews_wo_punct"
      ],
      "execution_count": null,
      "outputs": [
        {
          "output_type": "execute_result",
          "data": {
            "text/html": [
              "<div>\n",
              "<style scoped>\n",
              "    .dataframe tbody tr th:only-of-type {\n",
              "        vertical-align: middle;\n",
              "    }\n",
              "\n",
              "    .dataframe tbody tr th {\n",
              "        vertical-align: top;\n",
              "    }\n",
              "\n",
              "    .dataframe thead th {\n",
              "        text-align: right;\n",
              "    }\n",
              "</style>\n",
              "<table border=\"1\" class=\"dataframe\">\n",
              "  <thead>\n",
              "    <tr style=\"text-align: right;\">\n",
              "      <th></th>\n",
              "      <th>review</th>\n",
              "      <th>sentiment</th>\n",
              "    </tr>\n",
              "  </thead>\n",
              "  <tbody>\n",
              "    <tr>\n",
              "      <th>0</th>\n",
              "      <td>долгое ожтдание в итоге нет товара деньги верн...</td>\n",
              "      <td>negative</td>\n",
              "    </tr>\n",
              "    <tr>\n",
              "      <th>1</th>\n",
              "      <td>Редкостное дерьмо, фото вообще не соответствуе...</td>\n",
              "      <td>negative</td>\n",
              "    </tr>\n",
              "    <tr>\n",
              "      <th>2</th>\n",
              "      <td>Качество хорошее, с размером не угадала, разме...</td>\n",
              "      <td>positive</td>\n",
              "    </tr>\n",
              "    <tr>\n",
              "      <th>3</th>\n",
              "      <td>заказ, к сожалению, я так и не получила!хотя р...</td>\n",
              "      <td>neautral</td>\n",
              "    </tr>\n",
              "    <tr>\n",
              "      <th>4</th>\n",
              "      <td>нитки лезут( носить невозможно особенно если х...</td>\n",
              "      <td>neautral</td>\n",
              "    </tr>\n",
              "    <tr>\n",
              "      <th>...</th>\n",
              "      <td>...</td>\n",
              "      <td>...</td>\n",
              "    </tr>\n",
              "    <tr>\n",
              "      <th>495</th>\n",
              "      <td>шли чуть меньше месяца, все отлично, на 38 хор...</td>\n",
              "      <td>positive</td>\n",
              "    </tr>\n",
              "    <tr>\n",
              "      <th>496</th>\n",
              "      <td>платье на раз,тонкое,липкое...симпатичное...ра...</td>\n",
              "      <td>neautral</td>\n",
              "    </tr>\n",
              "    <tr>\n",
              "      <th>497</th>\n",
              "      <td>порвались в первый же день на  170-55</td>\n",
              "      <td>neautral</td>\n",
              "    </tr>\n",
              "    <tr>\n",
              "      <th>498</th>\n",
              "      <td>Заказала самый большой размер. По таблице разм...</td>\n",
              "      <td>neautral</td>\n",
              "    </tr>\n",
              "    <tr>\n",
              "      <th>499</th>\n",
              "      <td>трусы сшиты криво и очень маленькие</td>\n",
              "      <td>neautral</td>\n",
              "    </tr>\n",
              "  </tbody>\n",
              "</table>\n",
              "<p>500 rows × 2 columns</p>\n",
              "</div>"
            ],
            "text/plain": [
              "                                                review sentiment\n",
              "0    долгое ожтдание в итоге нет товара деньги верн...  negative\n",
              "1    Редкостное дерьмо, фото вообще не соответствуе...  negative\n",
              "2    Качество хорошее, с размером не угадала, разме...  positive\n",
              "3    заказ, к сожалению, я так и не получила!хотя р...  neautral\n",
              "4    нитки лезут( носить невозможно особенно если х...  neautral\n",
              "..                                                 ...       ...\n",
              "495  шли чуть меньше месяца, все отлично, на 38 хор...  positive\n",
              "496  платье на раз,тонкое,липкое...симпатичное...ра...  neautral\n",
              "497              порвались в первый же день на  170-55  neautral\n",
              "498  Заказала самый большой размер. По таблице разм...  neautral\n",
              "499                трусы сшиты криво и очень маленькие  neautral\n",
              "\n",
              "[500 rows x 2 columns]"
            ]
          },
          "metadata": {
            "tags": []
          },
          "execution_count": 89
        }
      ]
    },
    {
      "cell_type": "code",
      "metadata": {
        "colab": {
          "base_uri": "https://localhost:8080/"
        },
        "id": "uX04DcZGCLN7",
        "outputId": "72dc27da-68df-45fa-a718-8af7de3dd28c"
      },
      "source": [
        "data_reviews_wo_punct['review'][0].split()"
      ],
      "execution_count": null,
      "outputs": [
        {
          "output_type": "execute_result",
          "data": {
            "text/plain": [
              "['долгое',\n",
              " 'ожтдание',\n",
              " 'в',\n",
              " 'итоге',\n",
              " 'нет',\n",
              " 'товара',\n",
              " 'деньги',\n",
              " 'вернули',\n",
              " 'после',\n",
              " 'вмешательства',\n",
              " 'экспресс']"
            ]
          },
          "metadata": {
            "tags": []
          },
          "execution_count": 90
        }
      ]
    },
    {
      "cell_type": "markdown",
      "metadata": {
        "id": "vdqPL74FeaBH"
      },
      "source": [
        "! деление на униграммы (n-граммы) показывает, что перед удаление пунктуации нужно убедиться, что оставшееся слово существует"
      ]
    },
    {
      "cell_type": "code",
      "metadata": {
        "id": "gzWB-o1nE5uO"
      },
      "source": [
        "# в некоторых ситуациях списковые включения имеют побочные эффекты, которые могут\n",
        "# изменить возвращаемое функцией состояние, чо и происходит в случае написания:\n",
        "pd.DataFrame([\n",
        "              review.replace(ch,\"\") \n",
        "              for ch in string.punctuation \n",
        "              for review in data_reviews['review']\n",
        "              ])\n",
        "# исполнение примера показывает, что функция не воспроизводит изменения"
      ],
      "execution_count": null,
      "outputs": []
    },
    {
      "cell_type": "code",
      "metadata": {
        "id": "1dJtUNHdcicm"
      },
      "source": [
        "# пример для демонстрации работы\n",
        "for review in data_reviews['review']:\n",
        "  for ch in string.punctuation:\n",
        "    review = review.replace(ch,\"\")\n",
        "  print(review)"
      ],
      "execution_count": null,
      "outputs": []
    },
    {
      "cell_type": "code",
      "metadata": {
        "id": "OBEgDHnVeGpf"
      },
      "source": [
        "pymorphy2_analyzer = MorphAnalyzer()"
      ],
      "execution_count": null,
      "outputs": []
    },
    {
      "cell_type": "code",
      "metadata": {
        "colab": {
          "base_uri": "https://localhost:8080/"
        },
        "id": "JVSfa1Cgqw7B",
        "outputId": "447d4d4b-7520-4a2a-f64f-2cad2fb40fec"
      },
      "source": [
        "sentence = data_reviews_wo_punct['review'][0]\n",
        "for word in word_tokenize(sentence):\n",
        "  #print(word, type(word), len(pymorphy2_analyzer.parse(word))#, pymorphy2_analyzer.parse(word)\n",
        "  #)\n",
        "  word_forms = pymorphy2_analyzer.parse(word)\n",
        "  if len(word_forms)>0:\n",
        "    print(word, '--',word_forms[0].normal_form)"
      ],
      "execution_count": null,
      "outputs": [
        {
          "output_type": "stream",
          "text": [
            "долгое -- долгий\n",
            "ожтдание -- ожтдание\n",
            "в -- в\n",
            "итоге -- итог\n",
            "нет -- нет\n",
            "товара -- товар\n",
            "деньги -- деньга\n",
            "вернули -- вернуть\n",
            "после -- после\n",
            "вмешательства -- вмешательство\n",
            "экспресс -- экспресс\n"
          ],
          "name": "stdout"
        }
      ]
    },
    {
      "cell_type": "code",
      "metadata": {
        "colab": {
          "base_uri": "https://localhost:8080/",
          "height": 419
        },
        "id": "5POdIzsLymDL",
        "outputId": "b85c23c4-9886-492f-8c06-fca2e4288507"
      },
      "source": [
        "def lemmatization(sentence):\n",
        "  sentence = [\n",
        "              pymorphy2_analyzer.parse(word)[0].normal_form \n",
        "              if len(pymorphy2_analyzer.parse(word))>0\n",
        "              else word\n",
        "              for word in sentence.split()]\n",
        "  space_ch = \" \"\n",
        "  sentence = space_ch.join(sentence)\n",
        "  return sentence\n",
        "\n",
        "def replace(stri, to):\n",
        "  for ch in string.punctuation:\n",
        "    stri = stri.replace(ch, to)\n",
        "  return stri\n",
        "\n",
        "review_col = pd.DataFrame([\n",
        "                           lemmatization(replace(review, \" \"))\n",
        "                           for review in data_reviews_wo_punct['review']\n",
        "                           ])\n",
        "review_col"
      ],
      "execution_count": null,
      "outputs": [
        {
          "output_type": "execute_result",
          "data": {
            "text/html": [
              "<div>\n",
              "<style scoped>\n",
              "    .dataframe tbody tr th:only-of-type {\n",
              "        vertical-align: middle;\n",
              "    }\n",
              "\n",
              "    .dataframe tbody tr th {\n",
              "        vertical-align: top;\n",
              "    }\n",
              "\n",
              "    .dataframe thead th {\n",
              "        text-align: right;\n",
              "    }\n",
              "</style>\n",
              "<table border=\"1\" class=\"dataframe\">\n",
              "  <thead>\n",
              "    <tr style=\"text-align: right;\">\n",
              "      <th></th>\n",
              "      <th>0</th>\n",
              "    </tr>\n",
              "  </thead>\n",
              "  <tbody>\n",
              "    <tr>\n",
              "      <th>0</th>\n",
              "      <td>долгий ожтдание в итог нет товар деньга вернут...</td>\n",
              "    </tr>\n",
              "    <tr>\n",
              "      <th>1</th>\n",
              "      <td>редкостный дерьмо фото вообще не соответствова...</td>\n",
              "    </tr>\n",
              "    <tr>\n",
              "      <th>2</th>\n",
              "      <td>качество хороший с размер не угадать размер гр...</td>\n",
              "    </tr>\n",
              "    <tr>\n",
              "      <th>3</th>\n",
              "      <td>заказ к сожаление я так и не получить хотя ран...</td>\n",
              "    </tr>\n",
              "    <tr>\n",
              "      <th>4</th>\n",
              "      <td>нитка лезть носить невозможно особенно если хо...</td>\n",
              "    </tr>\n",
              "    <tr>\n",
              "      <th>...</th>\n",
              "      <td>...</td>\n",
              "    </tr>\n",
              "    <tr>\n",
              "      <th>495</th>\n",
              "      <td>идти чуть маленький месяц всё отлично на 38 хо...</td>\n",
              "    </tr>\n",
              "    <tr>\n",
              "      <th>496</th>\n",
              "      <td>платье на раз тонкий липкий симпатичный раз дв...</td>\n",
              "    </tr>\n",
              "    <tr>\n",
              "      <th>497</th>\n",
              "      <td>порваться в первый же день на 170 55</td>\n",
              "    </tr>\n",
              "    <tr>\n",
              "      <th>498</th>\n",
              "      <td>заказать самый большой размер по таблица разме...</td>\n",
              "    </tr>\n",
              "    <tr>\n",
              "      <th>499</th>\n",
              "      <td>трус сшить кривой и очень маленький</td>\n",
              "    </tr>\n",
              "  </tbody>\n",
              "</table>\n",
              "<p>500 rows × 1 columns</p>\n",
              "</div>"
            ],
            "text/plain": [
              "                                                     0\n",
              "0    долгий ожтдание в итог нет товар деньга вернут...\n",
              "1    редкостный дерьмо фото вообще не соответствова...\n",
              "2    качество хороший с размер не угадать размер гр...\n",
              "3    заказ к сожаление я так и не получить хотя ран...\n",
              "4    нитка лезть носить невозможно особенно если хо...\n",
              "..                                                 ...\n",
              "495  идти чуть маленький месяц всё отлично на 38 хо...\n",
              "496  платье на раз тонкий липкий симпатичный раз дв...\n",
              "497               порваться в первый же день на 170 55\n",
              "498  заказать самый большой размер по таблица разме...\n",
              "499                трус сшить кривой и очень маленький\n",
              "\n",
              "[500 rows x 1 columns]"
            ]
          },
          "metadata": {
            "tags": []
          },
          "execution_count": 93
        }
      ]
    },
    {
      "cell_type": "code",
      "metadata": {
        "colab": {
          "base_uri": "https://localhost:8080/",
          "height": 419
        },
        "id": "vQMtU3I98_Zl",
        "outputId": "aaf081d2-e82d-47af-aedf-ac2cade4fd7a"
      },
      "source": [
        "data_reviews_wo_punct['review'] = review_col\n",
        "data_reviews_wo_punct"
      ],
      "execution_count": null,
      "outputs": [
        {
          "output_type": "execute_result",
          "data": {
            "text/html": [
              "<div>\n",
              "<style scoped>\n",
              "    .dataframe tbody tr th:only-of-type {\n",
              "        vertical-align: middle;\n",
              "    }\n",
              "\n",
              "    .dataframe tbody tr th {\n",
              "        vertical-align: top;\n",
              "    }\n",
              "\n",
              "    .dataframe thead th {\n",
              "        text-align: right;\n",
              "    }\n",
              "</style>\n",
              "<table border=\"1\" class=\"dataframe\">\n",
              "  <thead>\n",
              "    <tr style=\"text-align: right;\">\n",
              "      <th></th>\n",
              "      <th>review</th>\n",
              "      <th>sentiment</th>\n",
              "    </tr>\n",
              "  </thead>\n",
              "  <tbody>\n",
              "    <tr>\n",
              "      <th>0</th>\n",
              "      <td>долгий ожтдание в итог нет товар деньга вернут...</td>\n",
              "      <td>negative</td>\n",
              "    </tr>\n",
              "    <tr>\n",
              "      <th>1</th>\n",
              "      <td>редкостный дерьмо фото вообще не соответствова...</td>\n",
              "      <td>negative</td>\n",
              "    </tr>\n",
              "    <tr>\n",
              "      <th>2</th>\n",
              "      <td>качество хороший с размер не угадать размер гр...</td>\n",
              "      <td>positive</td>\n",
              "    </tr>\n",
              "    <tr>\n",
              "      <th>3</th>\n",
              "      <td>заказ к сожаление я так и не получить хотя ран...</td>\n",
              "      <td>neautral</td>\n",
              "    </tr>\n",
              "    <tr>\n",
              "      <th>4</th>\n",
              "      <td>нитка лезть носить невозможно особенно если хо...</td>\n",
              "      <td>neautral</td>\n",
              "    </tr>\n",
              "    <tr>\n",
              "      <th>...</th>\n",
              "      <td>...</td>\n",
              "      <td>...</td>\n",
              "    </tr>\n",
              "    <tr>\n",
              "      <th>495</th>\n",
              "      <td>идти чуть маленький месяц всё отлично на 38 хо...</td>\n",
              "      <td>positive</td>\n",
              "    </tr>\n",
              "    <tr>\n",
              "      <th>496</th>\n",
              "      <td>платье на раз тонкий липкий симпатичный раз дв...</td>\n",
              "      <td>neautral</td>\n",
              "    </tr>\n",
              "    <tr>\n",
              "      <th>497</th>\n",
              "      <td>порваться в первый же день на 170 55</td>\n",
              "      <td>neautral</td>\n",
              "    </tr>\n",
              "    <tr>\n",
              "      <th>498</th>\n",
              "      <td>заказать самый большой размер по таблица разме...</td>\n",
              "      <td>neautral</td>\n",
              "    </tr>\n",
              "    <tr>\n",
              "      <th>499</th>\n",
              "      <td>трус сшить кривой и очень маленький</td>\n",
              "      <td>neautral</td>\n",
              "    </tr>\n",
              "  </tbody>\n",
              "</table>\n",
              "<p>500 rows × 2 columns</p>\n",
              "</div>"
            ],
            "text/plain": [
              "                                                review sentiment\n",
              "0    долгий ожтдание в итог нет товар деньга вернут...  negative\n",
              "1    редкостный дерьмо фото вообще не соответствова...  negative\n",
              "2    качество хороший с размер не угадать размер гр...  positive\n",
              "3    заказ к сожаление я так и не получить хотя ран...  neautral\n",
              "4    нитка лезть носить невозможно особенно если хо...  neautral\n",
              "..                                                 ...       ...\n",
              "495  идти чуть маленький месяц всё отлично на 38 хо...  positive\n",
              "496  платье на раз тонкий липкий симпатичный раз дв...  neautral\n",
              "497               порваться в первый же день на 170 55  neautral\n",
              "498  заказать самый большой размер по таблица разме...  neautral\n",
              "499                трус сшить кривой и очень маленький  neautral\n",
              "\n",
              "[500 rows x 2 columns]"
            ]
          },
          "metadata": {
            "tags": []
          },
          "execution_count": 94
        }
      ]
    },
    {
      "cell_type": "markdown",
      "metadata": {
        "id": "Oqwj-ifq524f"
      },
      "source": [
        "* добавлено удаление пунктуации\n",
        "* оптимизированно\n",
        "* добавлена лемматизация\n",
        "* оптимизированно х3\n",
        "* // важен порядок: сначала замена пунктуации на пробел, затем лемматизация, тк иначе слова в некоторых примерах склеиваются\n",
        "* // лемматизация переводит слова в нижний регистр\n",
        "* использовано шумоподавление на основе массива шума на 2х языках: английском и русском\n",
        "\n",
        "\n"
      ]
    },
    {
      "cell_type": "code",
      "metadata": {
        "id": "sbc9kfBZEVxa"
      },
      "source": [
        "x_train, x_test, y_train, y_test = train_test_split(\n",
        "    data_reviews_wo_punct.review, \n",
        "    data_reviews_wo_punct.sentiment, train_size = 0.7)"
      ],
      "execution_count": null,
      "outputs": []
    },
    {
      "cell_type": "code",
      "metadata": {
        "colab": {
          "base_uri": "https://localhost:8080/"
        },
        "id": "b6UeLkX8FYP7",
        "outputId": "7fb6dd4c-d021-4c0c-acce-313b7be564c4"
      },
      "source": [
        "data_reviews_wo_punct.sentiment.value_counts()"
      ],
      "execution_count": null,
      "outputs": [
        {
          "output_type": "execute_result",
          "data": {
            "text/plain": [
              "neautral    175\n",
              "positive    168\n",
              "negative    157\n",
              "Name: sentiment, dtype: int64"
            ]
          },
          "metadata": {
            "tags": []
          },
          "execution_count": 98
        }
      ]
    },
    {
      "cell_type": "code",
      "metadata": {
        "colab": {
          "base_uri": "https://localhost:8080/"
        },
        "id": "2daI4CVkFfUl",
        "outputId": "bfa9042c-69ad-4a83-c496-37437bfcf388"
      },
      "source": [
        "y_train.value_counts()"
      ],
      "execution_count": null,
      "outputs": [
        {
          "output_type": "execute_result",
          "data": {
            "text/plain": [
              "positive    120\n",
              "neautral    120\n",
              "negative    110\n",
              "Name: sentiment, dtype: int64"
            ]
          },
          "metadata": {
            "tags": []
          },
          "execution_count": 100
        }
      ]
    },
    {
      "cell_type": "code",
      "metadata": {
        "id": "VfwDcMGfGHrB"
      },
      "source": [
        "# здесь осуществяется подбор размера грамм"
      ],
      "execution_count": null,
      "outputs": []
    },
    {
      "cell_type": "code",
      "metadata": {
        "id": "UTbCkH52GJV7"
      },
      "source": [
        "# здесь нужно учитывать шум"
      ],
      "execution_count": null,
      "outputs": []
    },
    {
      "cell_type": "code",
      "metadata": {
        "colab": {
          "base_uri": "https://localhost:8080/"
        },
        "id": "TT1Oc3mqGD9g",
        "outputId": "cd00ca16-436b-43ba-b7d1-76a563687dcf"
      },
      "source": [
        "# векторизация мешок слов\n",
        "\n",
        "bow_vectorizer = CountVectorizer(ngram_range=(2, 4), max_df=0.1, min_df=4, max_features=50, stop_words=noise)\n",
        "#bow_vectorizer = CountVectorizer(ngram_range=(1, 1))\n",
        "vectorized_x_train = bow_vectorizer.fit_transform(x_train)\n",
        "list(bow_vectorizer.vocabulary_.items())[:10], vectorized_x_train.shape, x_train.shape"
      ],
      "execution_count": null,
      "outputs": [
        {
          "output_type": "execute_result",
          "data": {
            "text/plain": [
              "([('ткань очень', 43),\n",
              "  ('доставка быстрый', 8),\n",
              "  ('48 50', 2),\n",
              "  ('ждать месяц', 10),\n",
              "  ('прийти деньга', 25),\n",
              "  ('деньга вернуть', 7),\n",
              "  ('прийти деньга вернуть', 26),\n",
              "  ('качество хороший', 14),\n",
              "  ('прийти быстро', 24),\n",
              "  ('42 44', 0)],\n",
              " (350, 50),\n",
              " (350,))"
            ]
          },
          "metadata": {
            "tags": []
          },
          "execution_count": 260
        }
      ]
    },
    {
      "cell_type": "code",
      "metadata": {
        "id": "NEC1cqIsKFV_"
      },
      "source": [
        "NBclf = MultinomialNB()"
      ],
      "execution_count": null,
      "outputs": []
    },
    {
      "cell_type": "code",
      "metadata": {
        "colab": {
          "base_uri": "https://localhost:8080/"
        },
        "id": "0jqDtFFIIDKg",
        "outputId": "09eb9cf2-3e3b-45e6-9bf4-dff651050c03"
      },
      "source": [
        "NBclf.fit(vectorized_x_train, y_train)\n",
        "vectorized_x_test = bow_vectorizer.transform(x_test)\n",
        "pred = NBclf.predict(vectorized_x_test)\n",
        "print(classification_report(y_test, pred))"
      ],
      "execution_count": null,
      "outputs": [
        {
          "output_type": "stream",
          "text": [
            "              precision    recall  f1-score   support\n",
            "\n",
            "    neautral       0.42      0.76      0.54        55\n",
            "    negative       0.53      0.17      0.26        47\n",
            "    positive       0.66      0.48      0.55        48\n",
            "\n",
            "    accuracy                           0.49       150\n",
            "   macro avg       0.54      0.47      0.45       150\n",
            "weighted avg       0.53      0.49      0.46       150\n",
            "\n"
          ],
          "name": "stdout"
        }
      ]
    },
    {
      "cell_type": "code",
      "metadata": {
        "id": "mOJBXtLMOkHs"
      },
      "source": [
        "BoW_features = bow_vectorizer.get_feature_names()"
      ],
      "execution_count": null,
      "outputs": []
    },
    {
      "cell_type": "code",
      "metadata": {
        "colab": {
          "base_uri": "https://localhost:8080/"
        },
        "id": "L4825IR_qv4s",
        "outputId": "4c4303f8-30bc-4350-b874-a282b4f2f88d"
      },
      "source": [
        "# векторизация TD-IDF\n",
        "\n",
        "tfidf_vectorizer = TfidfVectorizer(ngram_range=(2, 4), max_df=0.4, min_df=2, max_features=50, stop_words=noise)\n",
        "# tfidf_vectorizer = TfidfVectorizer(ngram_range=(1, 1))\n",
        "# обучаем его и применяем к x_train\n",
        "tfidf_vectorized_x_train = tfidf_vectorizer.fit_transform(x_train)\n",
        "# инициализируем и обучаем классификатор\n",
        "NBclf.fit(tfidf_vectorized_x_train, y_train)\n",
        "# применяем обученный векторизатор к тестовым данным\n",
        "tfidf_vectorized_x_test = tfidf_vectorizer.transform(x_test)\n",
        "pred = NBclf.predict(tfidf_vectorized_x_test)\n",
        "print(classification_report(y_test, pred))"
      ],
      "execution_count": null,
      "outputs": [
        {
          "output_type": "stream",
          "text": [
            "              precision    recall  f1-score   support\n",
            "\n",
            "    neautral       0.41      0.76      0.54        55\n",
            "    negative       0.56      0.19      0.29        47\n",
            "    positive       0.66      0.44      0.53        48\n",
            "\n",
            "    accuracy                           0.48       150\n",
            "   macro avg       0.54      0.46      0.45       150\n",
            "weighted avg       0.54      0.48      0.45       150\n",
            "\n"
          ],
          "name": "stdout"
        }
      ]
    },
    {
      "cell_type": "code",
      "metadata": {
        "id": "upexpFKOOczV"
      },
      "source": [
        "tfidf_features = tfidf_vectorizer.get_feature_names()"
      ],
      "execution_count": null,
      "outputs": []
    },
    {
      "cell_type": "code",
      "metadata": {
        "colab": {
          "base_uri": "https://localhost:8080/"
        },
        "id": "TdF_M7URJcL6",
        "outputId": "0fc4128b-576a-46d1-cdd7-3771e2cf68e0"
      },
      "source": [
        "# векторизатор на основе символьных n-грамм\n",
        "\n",
        "char_vectorizer = CountVectorizer(analyzer='char', ngram_range=(2, 4), max_df=0.1, min_df=4, max_features=50, stop_words=noise)\n",
        "char_vectorized_x_train = char_vectorizer.fit_transform(x_train)\n",
        "NBclf.fit(char_vectorized_x_train, y_train)\n",
        "char_vectorized_x_test = char_vectorizer.transform(x_test)\n",
        "pred = NBclf.predict(char_vectorized_x_test)\n",
        "print(classification_report(y_test, pred))"
      ],
      "execution_count": null,
      "outputs": [
        {
          "output_type": "stream",
          "text": [
            "              precision    recall  f1-score   support\n",
            "\n",
            "    neautral       0.37      0.51      0.43        55\n",
            "    negative       0.39      0.28      0.33        47\n",
            "    positive       0.45      0.40      0.42        48\n",
            "\n",
            "    accuracy                           0.40       150\n",
            "   macro avg       0.41      0.39      0.39       150\n",
            "weighted avg       0.41      0.40      0.39       150\n",
            "\n"
          ],
          "name": "stdout"
        }
      ]
    },
    {
      "cell_type": "code",
      "metadata": {
        "id": "jI_jIL_0PG6E"
      },
      "source": [
        "char_features = char_vectorizer.get_feature_names()"
      ],
      "execution_count": null,
      "outputs": []
    },
    {
      "cell_type": "code",
      "metadata": {
        "colab": {
          "base_uri": "https://localhost:8080/"
        },
        "id": "Zoo_ya6VQjiT",
        "outputId": "cdcc95ac-28b5-4c00-c3ec-67fa685a6f3d"
      },
      "source": [
        "len(BoW_features), len(tfidf_features), len(char_features)"
      ],
      "execution_count": null,
      "outputs": [
        {
          "output_type": "execute_result",
          "data": {
            "text/plain": [
              "(50, 50, 50)"
            ]
          },
          "metadata": {
            "tags": []
          },
          "execution_count": 256
        }
      ]
    },
    {
      "cell_type": "code",
      "metadata": {
        "id": "0grzI5uFRTIc"
      },
      "source": [
        "d = {'BoW': BoW_features, 'TF-IDF': tfidf_features, 'Char': char_features}\n",
        "features = pd.DataFrame(d)"
      ],
      "execution_count": null,
      "outputs": []
    },
    {
      "cell_type": "code",
      "metadata": {
        "colab": {
          "base_uri": "https://localhost:8080/",
          "height": 1000
        },
        "id": "K-h9SneoS3aW",
        "outputId": "dc00236c-7084-4572-995b-15e33dd7e56b"
      },
      "source": [
        "features"
      ],
      "execution_count": null,
      "outputs": [
        {
          "output_type": "execute_result",
          "data": {
            "text/html": [
              "<div>\n",
              "<style scoped>\n",
              "    .dataframe tbody tr th:only-of-type {\n",
              "        vertical-align: middle;\n",
              "    }\n",
              "\n",
              "    .dataframe tbody tr th {\n",
              "        vertical-align: top;\n",
              "    }\n",
              "\n",
              "    .dataframe thead th {\n",
              "        text-align: right;\n",
              "    }\n",
              "</style>\n",
              "<table border=\"1\" class=\"dataframe\">\n",
              "  <thead>\n",
              "    <tr style=\"text-align: right;\">\n",
              "      <th></th>\n",
              "      <th>BoW</th>\n",
              "      <th>TF-IDF</th>\n",
              "      <th>Char</th>\n",
              "    </tr>\n",
              "  </thead>\n",
              "  <tbody>\n",
              "    <tr>\n",
              "      <th>0</th>\n",
              "      <td>42 44</td>\n",
              "      <td>42 44</td>\n",
              "      <td>s</td>\n",
              "    </tr>\n",
              "    <tr>\n",
              "      <th>1</th>\n",
              "      <td>44 размер</td>\n",
              "      <td>44 размер</td>\n",
              "      <td>вы</td>\n",
              "    </tr>\n",
              "    <tr>\n",
              "      <th>2</th>\n",
              "      <td>48 50</td>\n",
              "      <td>быстрый доставка</td>\n",
              "      <td>кр</td>\n",
              "    </tr>\n",
              "    <tr>\n",
              "      <th>3</th>\n",
              "      <td>48 размер</td>\n",
              "      <td>вернуть деньга</td>\n",
              "      <td>мал</td>\n",
              "    </tr>\n",
              "    <tr>\n",
              "      <th>4</th>\n",
              "      <td>быстрый доставка</td>\n",
              "      <td>деньга вернуть</td>\n",
              "      <td>по</td>\n",
              "    </tr>\n",
              "    <tr>\n",
              "      <th>5</th>\n",
              "      <td>вернуть деньга</td>\n",
              "      <td>доставка быстрый</td>\n",
              "      <td>пос</td>\n",
              "    </tr>\n",
              "    <tr>\n",
              "      <th>6</th>\n",
              "      <td>всё отлично</td>\n",
              "      <td>доставка неделя</td>\n",
              "      <td>се</td>\n",
              "    </tr>\n",
              "    <tr>\n",
              "      <th>7</th>\n",
              "      <td>деньга вернуть</td>\n",
              "      <td>ждать месяц</td>\n",
              "      <td>тк</td>\n",
              "    </tr>\n",
              "    <tr>\n",
              "      <th>8</th>\n",
              "      <td>доставка быстрый</td>\n",
              "      <td>заказ прийти</td>\n",
              "      <td>тка</td>\n",
              "    </tr>\n",
              "    <tr>\n",
              "      <th>9</th>\n",
              "      <td>доставка неделя</td>\n",
              "      <td>заказ прийти быстро</td>\n",
              "      <td>тов</td>\n",
              "    </tr>\n",
              "    <tr>\n",
              "      <th>10</th>\n",
              "      <td>ждать месяц</td>\n",
              "      <td>заказывать продавец</td>\n",
              "      <td>s</td>\n",
              "    </tr>\n",
              "    <tr>\n",
              "      <th>11</th>\n",
              "      <td>заказ прийти</td>\n",
              "      <td>идти месяц</td>\n",
              "      <td>а на</td>\n",
              "    </tr>\n",
              "    <tr>\n",
              "      <th>12</th>\n",
              "      <td>заказ прийти быстро</td>\n",
              "      <td>качество отличный</td>\n",
              "      <td>а пр</td>\n",
              "    </tr>\n",
              "    <tr>\n",
              "      <th>13</th>\n",
              "      <td>идти месяц</td>\n",
              "      <td>качество хороший</td>\n",
              "      <td>вый</td>\n",
              "    </tr>\n",
              "    <tr>\n",
              "      <th>14</th>\n",
              "      <td>качество хороший</td>\n",
              "      <td>нитка торчать</td>\n",
              "      <td>дл</td>\n",
              "    </tr>\n",
              "    <tr>\n",
              "      <th>15</th>\n",
              "      <td>нитка торчать</td>\n",
              "      <td>открывать спор</td>\n",
              "      <td>до</td>\n",
              "    </tr>\n",
              "    <tr>\n",
              "      <th>16</th>\n",
              "      <td>открыть спор</td>\n",
              "      <td>открыть спор</td>\n",
              "      <td>ев</td>\n",
              "    </tr>\n",
              "    <tr>\n",
              "      <th>17</th>\n",
              "      <td>очень довольный</td>\n",
              "      <td>очень большой</td>\n",
              "      <td>ель</td>\n",
              "    </tr>\n",
              "    <tr>\n",
              "      <th>18</th>\n",
              "      <td>очень маленький</td>\n",
              "      <td>очень довольный</td>\n",
              "      <td>еньк</td>\n",
              "    </tr>\n",
              "    <tr>\n",
              "      <th>19</th>\n",
              "      <td>очень понравиться</td>\n",
              "      <td>очень долго</td>\n",
              "      <td>зы</td>\n",
              "    </tr>\n",
              "    <tr>\n",
              "      <th>20</th>\n",
              "      <td>очень сильно</td>\n",
              "      <td>очень понравиться</td>\n",
              "      <td>зыв</td>\n",
              "    </tr>\n",
              "    <tr>\n",
              "      <th>21</th>\n",
              "      <td>очень тонкий</td>\n",
              "      <td>очень сильно</td>\n",
              "      <td>зыва</td>\n",
              "    </tr>\n",
              "    <tr>\n",
              "      <th>22</th>\n",
              "      <td>очень хороший</td>\n",
              "      <td>очень тонкий</td>\n",
              "      <td>из</td>\n",
              "    </tr>\n",
              "    <tr>\n",
              "      <th>23</th>\n",
              "      <td>посылка идти</td>\n",
              "      <td>очень хороший</td>\n",
              "      <td>ил</td>\n",
              "    </tr>\n",
              "    <tr>\n",
              "      <th>24</th>\n",
              "      <td>прийти быстро</td>\n",
              "      <td>посылка идти</td>\n",
              "      <td>й в</td>\n",
              "    </tr>\n",
              "    <tr>\n",
              "      <th>25</th>\n",
              "      <td>прийти деньга</td>\n",
              "      <td>прийти быстро</td>\n",
              "      <td>лен</td>\n",
              "    </tr>\n",
              "    <tr>\n",
              "      <th>26</th>\n",
              "      <td>прийти деньга вернуть</td>\n",
              "      <td>прийти деньга</td>\n",
              "      <td>личн</td>\n",
              "    </tr>\n",
              "    <tr>\n",
              "      <th>27</th>\n",
              "      <td>прийти неделя</td>\n",
              "      <td>прийти деньга вернуть</td>\n",
              "      <td>нит</td>\n",
              "    </tr>\n",
              "    <tr>\n",
              "      <th>28</th>\n",
              "      <td>прийти продавец</td>\n",
              "      <td>прийти неделя</td>\n",
              "      <td>ньк</td>\n",
              "    </tr>\n",
              "    <tr>\n",
              "      <th>29</th>\n",
              "      <td>приятный тело</td>\n",
              "      <td>прийти продавец</td>\n",
              "      <td>ньки</td>\n",
              "    </tr>\n",
              "    <tr>\n",
              "      <th>30</th>\n",
              "      <td>продавец вернуть</td>\n",
              "      <td>приятный тело</td>\n",
              "      <td>о д</td>\n",
              "    </tr>\n",
              "    <tr>\n",
              "      <th>31</th>\n",
              "      <td>продавец рекомендовать</td>\n",
              "      <td>продавец вернуть</td>\n",
              "      <td>ото</td>\n",
              "    </tr>\n",
              "    <tr>\n",
              "      <th>32</th>\n",
              "      <td>размер 42</td>\n",
              "      <td>продавец вернуть деньга</td>\n",
              "      <td>очк</td>\n",
              "    </tr>\n",
              "    <tr>\n",
              "      <th>33</th>\n",
              "      <td>размер большой</td>\n",
              "      <td>продавец рекомендовать</td>\n",
              "      <td>пи</td>\n",
              "    </tr>\n",
              "    <tr>\n",
              "      <th>34</th>\n",
              "      <td>размер маленький</td>\n",
              "      <td>размер 42</td>\n",
              "      <td>пос</td>\n",
              "    </tr>\n",
              "    <tr>\n",
              "      <th>35</th>\n",
              "      <td>размер подойти</td>\n",
              "      <td>размер xl</td>\n",
              "      <td>пра</td>\n",
              "    </tr>\n",
              "    <tr>\n",
              "      <th>36</th>\n",
              "      <td>размерный сетка</td>\n",
              "      <td>размер большой</td>\n",
              "      <td>рави</td>\n",
              "    </tr>\n",
              "    <tr>\n",
              "      <th>37</th>\n",
              "      <td>рекомендовать продавец</td>\n",
              "      <td>размер маленький</td>\n",
              "      <td>рост</td>\n",
              "    </tr>\n",
              "    <tr>\n",
              "      <th>38</th>\n",
              "      <td>рост 170</td>\n",
              "      <td>размер подойти</td>\n",
              "      <td>рт</td>\n",
              "    </tr>\n",
              "    <tr>\n",
              "      <th>39</th>\n",
              "      <td>соответствовать описание</td>\n",
              "      <td>размерный сетка</td>\n",
              "      <td>сить</td>\n",
              "    </tr>\n",
              "    <tr>\n",
              "      <th>40</th>\n",
              "      <td>спасибо продавец</td>\n",
              "      <td>рекомендовать продавец</td>\n",
              "      <td>тел</td>\n",
              "    </tr>\n",
              "    <tr>\n",
              "      <th>41</th>\n",
              "      <td>спор вернуть</td>\n",
              "      <td>рост 170</td>\n",
              "      <td>ть т</td>\n",
              "    </tr>\n",
              "    <tr>\n",
              "      <th>42</th>\n",
              "      <td>спор продавец</td>\n",
              "      <td>соответствовать описание</td>\n",
              "      <td>чк</td>\n",
              "    </tr>\n",
              "    <tr>\n",
              "      <th>43</th>\n",
              "      <td>ткань очень</td>\n",
              "      <td>спасибо продавец</td>\n",
              "      <td>чка</td>\n",
              "    </tr>\n",
              "    <tr>\n",
              "      <th>44</th>\n",
              "      <td>ткань приятный</td>\n",
              "      <td>спор вернуть</td>\n",
              "      <td>чка</td>\n",
              "    </tr>\n",
              "    <tr>\n",
              "      <th>45</th>\n",
              "      <td>товар прийти</td>\n",
              "      <td>спор продавец</td>\n",
              "      <td>ы</td>\n",
              "    </tr>\n",
              "    <tr>\n",
              "      <th>46</th>\n",
              "      <td>товар прийти деньга</td>\n",
              "      <td>товар прийти</td>\n",
              "      <td>ый п</td>\n",
              "    </tr>\n",
              "    <tr>\n",
              "      <th>47</th>\n",
              "      <td>товар прийти деньга вернуть</td>\n",
              "      <td>товар прийти деньга</td>\n",
              "      <td>ый с</td>\n",
              "    </tr>\n",
              "    <tr>\n",
              "      <th>48</th>\n",
              "      <td>торчать нитка</td>\n",
              "      <td>торчать нитка</td>\n",
              "      <td>ьки</td>\n",
              "    </tr>\n",
              "    <tr>\n",
              "      <th>49</th>\n",
              "      <td>трек отслеживаться</td>\n",
              "      <td>трек отслеживаться</td>\n",
              "      <td>ький</td>\n",
              "    </tr>\n",
              "  </tbody>\n",
              "</table>\n",
              "</div>"
            ],
            "text/plain": [
              "                            BoW                    TF-IDF  Char\n",
              "0                         42 44                     42 44     s\n",
              "1                     44 размер                 44 размер    вы\n",
              "2                         48 50          быстрый доставка    кр\n",
              "3                     48 размер            вернуть деньга   мал\n",
              "4              быстрый доставка            деньга вернуть   по \n",
              "5                вернуть деньга          доставка быстрый   пос\n",
              "6                   всё отлично           доставка неделя    се\n",
              "7                деньга вернуть               ждать месяц    тк\n",
              "8              доставка быстрый              заказ прийти   тка\n",
              "9               доставка неделя       заказ прийти быстро   тов\n",
              "10                  ждать месяц       заказывать продавец    s \n",
              "11                 заказ прийти                идти месяц  а на\n",
              "12          заказ прийти быстро         качество отличный  а пр\n",
              "13                   идти месяц          качество хороший  вый \n",
              "14             качество хороший             нитка торчать    дл\n",
              "15                нитка торчать            открывать спор   до \n",
              "16                 открыть спор              открыть спор    ев\n",
              "17              очень довольный             очень большой   ель\n",
              "18              очень маленький           очень довольный  еньк\n",
              "19            очень понравиться               очень долго    зы\n",
              "20                 очень сильно         очень понравиться   зыв\n",
              "21                 очень тонкий              очень сильно  зыва\n",
              "22                очень хороший              очень тонкий    из\n",
              "23                 посылка идти             очень хороший    ил\n",
              "24                прийти быстро              посылка идти   й в\n",
              "25                прийти деньга             прийти быстро   лен\n",
              "26        прийти деньга вернуть             прийти деньга  личн\n",
              "27                прийти неделя     прийти деньга вернуть   нит\n",
              "28              прийти продавец             прийти неделя   ньк\n",
              "29                приятный тело           прийти продавец  ньки\n",
              "30             продавец вернуть             приятный тело   о д\n",
              "31       продавец рекомендовать          продавец вернуть   ото\n",
              "32                    размер 42   продавец вернуть деньга   очк\n",
              "33               размер большой    продавец рекомендовать    пи\n",
              "34             размер маленький                 размер 42   пос\n",
              "35               размер подойти                 размер xl   пра\n",
              "36              размерный сетка            размер большой  рави\n",
              "37       рекомендовать продавец          размер маленький  рост\n",
              "38                     рост 170            размер подойти    рт\n",
              "39     соответствовать описание           размерный сетка  сить\n",
              "40             спасибо продавец    рекомендовать продавец   тел\n",
              "41                 спор вернуть                  рост 170  ть т\n",
              "42                спор продавец  соответствовать описание    чк\n",
              "43                  ткань очень          спасибо продавец   чка\n",
              "44               ткань приятный              спор вернуть  чка \n",
              "45                 товар прийти             спор продавец    ы \n",
              "46          товар прийти деньга              товар прийти  ый п\n",
              "47  товар прийти деньга вернуть       товар прийти деньга  ый с\n",
              "48                торчать нитка             торчать нитка   ьки\n",
              "49           трек отслеживаться        трек отслеживаться  ький"
            ]
          },
          "metadata": {
            "tags": []
          },
          "execution_count": 277
        }
      ]
    }
  ]
}